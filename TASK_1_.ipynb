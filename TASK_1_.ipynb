{
  "nbformat": 4,
  "nbformat_minor": 0,
  "metadata": {
    "colab": {
      "name": "TASK 1 .ipynb",
      "provenance": [],
      "collapsed_sections": []
    },
    "kernelspec": {
      "name": "python3",
      "display_name": "Python 3"
    }
  },
  "cells": [
    {
      "cell_type": "markdown",
      "metadata": {
        "id": "LQa9H3tdfirz"
      },
      "source": [
        "**The Sparks Foundation- Data Science & Business Analytics Internship**\r\n",
        "\r\n",
        "\r\n",
        "\r\n"
      ]
    },
    {
      "cell_type": "markdown",
      "metadata": {
        "id": "_HdUrmdyliBh"
      },
      "source": [
        "Task Submitted by -**PALAK GANGWAR**"
      ]
    },
    {
      "cell_type": "markdown",
      "metadata": {
        "id": "78lyG3Hv_Umm"
      },
      "source": [
        "**MACHINE LEARNING**:Gives computers the ability to learn  without being explicitly programmed."
      ]
    },
    {
      "cell_type": "markdown",
      "metadata": {
        "id": "Au1Ql1e6liWi"
      },
      "source": [
        "**TASK 1 -Prediction using Supervised Machine Learning**"
      ]
    },
    {
      "cell_type": "markdown",
      "metadata": {
        "id": "s1Qb0Ul-U699"
      },
      "source": [
        "Objective: To predict the percentage of a student based on a number of hours they study by using the Linear Regression Supervised Machine Learning "
      ]
    },
    {
      "cell_type": "markdown",
      "metadata": {
        "id": "4uOiMJSGljBM"
      },
      "source": [
        "**Steps in implementing Linear Regression Model**\r\n",
        " \r\n",
        "\r\n",
        "1.   Importing the libraries and the dataset \r\n",
        "2.   Scaling the dataset\r\n",
        "3.   Creating the testsplit and train partitions\r\n",
        "4.   Implementing the Linear Regression model using Sckit-Learn\r\n",
        "5.   Generating predicitions over the test set\r\n",
        "6.   Evaluating the model\r\n",
        "\r\n",
        "\r\n",
        "\r\n",
        "\r\n"
      ]
    },
    {
      "cell_type": "markdown",
      "metadata": {
        "id": "7t04NQ0D30Kg"
      },
      "source": [
        "**STEP 1:Importing the libraries and dataset**"
      ]
    },
    {
      "cell_type": "markdown",
      "metadata": {
        "id": "52BG5GdCoTjy"
      },
      "source": [
        "Importing the Libraries"
      ]
    },
    {
      "cell_type": "code",
      "metadata": {
        "id": "lWbknY_0inQP"
      },
      "source": [
        "import pandas as pd                    \n",
        "import numpy as np                     # For mathematical calculations \n",
        "import seaborn as sns                  # For data visualization \n",
        "import matplotlib.pyplot as plt  # For plotting graphs \n",
        "%matplotlib inline \n",
        "#plt.style.use('dark_background')\n",
        "import warnings   # To ignore any warnings warnings.filterwarnings(\"ignore\")"
      ],
      "execution_count": null,
      "outputs": []
    },
    {
      "cell_type": "markdown",
      "metadata": {
        "id": "s2GN2Qpif_Jc"
      },
      "source": [
        "Importing the Dataset"
      ]
    },
    {
      "cell_type": "code",
      "metadata": {
        "id": "hsvCWmJxf_vj"
      },
      "source": [
        "data=\"http://bit.ly/w-data\"\r\n",
        "data1=pd.read_csv(data)\r\n"
      ],
      "execution_count": null,
      "outputs": []
    },
    {
      "cell_type": "markdown",
      "metadata": {
        "id": "jLMxwtb4gRQY"
      },
      "source": [
        "**Target variabale: Scores**"
      ]
    },
    {
      "cell_type": "markdown",
      "metadata": {
        "id": "BX3G3OG2KOC2"
      },
      "source": [
        "**SKIMMIMG OVER  THE  DATASET**"
      ]
    },
    {
      "cell_type": "code",
      "metadata": {
        "id": "SxqbRslIiH7A",
        "colab": {
          "base_uri": "https://localhost:8080/",
          "height": 195
        },
        "outputId": "31801f5b-c300-4b32-90e6-8d7368db4d4a"
      },
      "source": [
        "data1.head()"
      ],
      "execution_count": null,
      "outputs": [
        {
          "output_type": "execute_result",
          "data": {
            "text/html": [
              "<div>\n",
              "<style scoped>\n",
              "    .dataframe tbody tr th:only-of-type {\n",
              "        vertical-align: middle;\n",
              "    }\n",
              "\n",
              "    .dataframe tbody tr th {\n",
              "        vertical-align: top;\n",
              "    }\n",
              "\n",
              "    .dataframe thead th {\n",
              "        text-align: right;\n",
              "    }\n",
              "</style>\n",
              "<table border=\"1\" class=\"dataframe\">\n",
              "  <thead>\n",
              "    <tr style=\"text-align: right;\">\n",
              "      <th></th>\n",
              "      <th>Hours</th>\n",
              "      <th>Scores</th>\n",
              "    </tr>\n",
              "  </thead>\n",
              "  <tbody>\n",
              "    <tr>\n",
              "      <th>0</th>\n",
              "      <td>2.5</td>\n",
              "      <td>21</td>\n",
              "    </tr>\n",
              "    <tr>\n",
              "      <th>1</th>\n",
              "      <td>5.1</td>\n",
              "      <td>47</td>\n",
              "    </tr>\n",
              "    <tr>\n",
              "      <th>2</th>\n",
              "      <td>3.2</td>\n",
              "      <td>27</td>\n",
              "    </tr>\n",
              "    <tr>\n",
              "      <th>3</th>\n",
              "      <td>8.5</td>\n",
              "      <td>75</td>\n",
              "    </tr>\n",
              "    <tr>\n",
              "      <th>4</th>\n",
              "      <td>3.5</td>\n",
              "      <td>30</td>\n",
              "    </tr>\n",
              "  </tbody>\n",
              "</table>\n",
              "</div>"
            ],
            "text/plain": [
              "   Hours  Scores\n",
              "0    2.5      21\n",
              "1    5.1      47\n",
              "2    3.2      27\n",
              "3    8.5      75\n",
              "4    3.5      30"
            ]
          },
          "metadata": {
            "tags": []
          },
          "execution_count": 3
        }
      ]
    },
    {
      "cell_type": "code",
      "metadata": {
        "colab": {
          "base_uri": "https://localhost:8080/",
          "height": 195
        },
        "id": "Zb-dK31CD4q2",
        "outputId": "1aba6325-e1cd-4ea7-9abb-ffd09a1384c3"
      },
      "source": [
        "data1.tail()"
      ],
      "execution_count": null,
      "outputs": [
        {
          "output_type": "execute_result",
          "data": {
            "text/html": [
              "<div>\n",
              "<style scoped>\n",
              "    .dataframe tbody tr th:only-of-type {\n",
              "        vertical-align: middle;\n",
              "    }\n",
              "\n",
              "    .dataframe tbody tr th {\n",
              "        vertical-align: top;\n",
              "    }\n",
              "\n",
              "    .dataframe thead th {\n",
              "        text-align: right;\n",
              "    }\n",
              "</style>\n",
              "<table border=\"1\" class=\"dataframe\">\n",
              "  <thead>\n",
              "    <tr style=\"text-align: right;\">\n",
              "      <th></th>\n",
              "      <th>Hours</th>\n",
              "      <th>Scores</th>\n",
              "    </tr>\n",
              "  </thead>\n",
              "  <tbody>\n",
              "    <tr>\n",
              "      <th>20</th>\n",
              "      <td>2.7</td>\n",
              "      <td>30</td>\n",
              "    </tr>\n",
              "    <tr>\n",
              "      <th>21</th>\n",
              "      <td>4.8</td>\n",
              "      <td>54</td>\n",
              "    </tr>\n",
              "    <tr>\n",
              "      <th>22</th>\n",
              "      <td>3.8</td>\n",
              "      <td>35</td>\n",
              "    </tr>\n",
              "    <tr>\n",
              "      <th>23</th>\n",
              "      <td>6.9</td>\n",
              "      <td>76</td>\n",
              "    </tr>\n",
              "    <tr>\n",
              "      <th>24</th>\n",
              "      <td>7.8</td>\n",
              "      <td>86</td>\n",
              "    </tr>\n",
              "  </tbody>\n",
              "</table>\n",
              "</div>"
            ],
            "text/plain": [
              "    Hours  Scores\n",
              "20    2.7      30\n",
              "21    4.8      54\n",
              "22    3.8      35\n",
              "23    6.9      76\n",
              "24    7.8      86"
            ]
          },
          "metadata": {
            "tags": []
          },
          "execution_count": 4
        }
      ]
    },
    {
      "cell_type": "code",
      "metadata": {
        "colab": {
          "base_uri": "https://localhost:8080/"
        },
        "id": "OyRLArfEJNcP",
        "outputId": "b9d6ca33-6b97-4f95-94ce-444d6aafd0de"
      },
      "source": [
        "data1['Scores'].head(10)"
      ],
      "execution_count": null,
      "outputs": [
        {
          "output_type": "execute_result",
          "data": {
            "text/plain": [
              "0    21\n",
              "1    47\n",
              "2    27\n",
              "3    75\n",
              "4    30\n",
              "5    20\n",
              "6    88\n",
              "7    60\n",
              "8    81\n",
              "9    25\n",
              "Name: Scores, dtype: int64"
            ]
          },
          "metadata": {
            "tags": []
          },
          "execution_count": 5
        }
      ]
    },
    {
      "cell_type": "markdown",
      "metadata": {
        "id": "gUuSdwdaKfj0"
      },
      "source": [
        "**More details about dataset**"
      ]
    },
    {
      "cell_type": "code",
      "metadata": {
        "colab": {
          "base_uri": "https://localhost:8080/"
        },
        "id": "7KZacQOOJ1dD",
        "outputId": "81d51e22-23d8-49b7-982d-26bbe18a0f44"
      },
      "source": [
        "data1.info()"
      ],
      "execution_count": null,
      "outputs": [
        {
          "output_type": "stream",
          "text": [
            "<class 'pandas.core.frame.DataFrame'>\n",
            "RangeIndex: 25 entries, 0 to 24\n",
            "Data columns (total 2 columns):\n",
            " #   Column  Non-Null Count  Dtype  \n",
            "---  ------  --------------  -----  \n",
            " 0   Hours   25 non-null     float64\n",
            " 1   Scores  25 non-null     int64  \n",
            "dtypes: float64(1), int64(1)\n",
            "memory usage: 528.0 bytes\n"
          ],
          "name": "stdout"
        }
      ]
    },
    {
      "cell_type": "markdown",
      "metadata": {
        "id": "N5F4WcWjLFJe"
      },
      "source": [
        "**Check no of rows and columns**"
      ]
    },
    {
      "cell_type": "code",
      "metadata": {
        "colab": {
          "base_uri": "https://localhost:8080/"
        },
        "id": "zSr6fAS4EBxy",
        "outputId": "7b2467b1-c286-4bb2-825a-0068acbe88b0"
      },
      "source": [
        "data1.shape"
      ],
      "execution_count": null,
      "outputs": [
        {
          "output_type": "execute_result",
          "data": {
            "text/plain": [
              "(25, 2)"
            ]
          },
          "metadata": {
            "tags": []
          },
          "execution_count": 7
        }
      ]
    },
    {
      "cell_type": "markdown",
      "metadata": {
        "id": "Cn9Cm6tjLOW-"
      },
      "source": [
        "**Descriptive Statistics**"
      ]
    },
    {
      "cell_type": "code",
      "metadata": {
        "colab": {
          "base_uri": "https://localhost:8080/",
          "height": 284
        },
        "id": "DeIPS7kiENOQ",
        "outputId": "dd9be597-8754-4638-c2be-97cf44460602"
      },
      "source": [
        "data1.describe()"
      ],
      "execution_count": null,
      "outputs": [
        {
          "output_type": "execute_result",
          "data": {
            "text/html": [
              "<div>\n",
              "<style scoped>\n",
              "    .dataframe tbody tr th:only-of-type {\n",
              "        vertical-align: middle;\n",
              "    }\n",
              "\n",
              "    .dataframe tbody tr th {\n",
              "        vertical-align: top;\n",
              "    }\n",
              "\n",
              "    .dataframe thead th {\n",
              "        text-align: right;\n",
              "    }\n",
              "</style>\n",
              "<table border=\"1\" class=\"dataframe\">\n",
              "  <thead>\n",
              "    <tr style=\"text-align: right;\">\n",
              "      <th></th>\n",
              "      <th>Hours</th>\n",
              "      <th>Scores</th>\n",
              "    </tr>\n",
              "  </thead>\n",
              "  <tbody>\n",
              "    <tr>\n",
              "      <th>count</th>\n",
              "      <td>25.000000</td>\n",
              "      <td>25.000000</td>\n",
              "    </tr>\n",
              "    <tr>\n",
              "      <th>mean</th>\n",
              "      <td>5.012000</td>\n",
              "      <td>51.480000</td>\n",
              "    </tr>\n",
              "    <tr>\n",
              "      <th>std</th>\n",
              "      <td>2.525094</td>\n",
              "      <td>25.286887</td>\n",
              "    </tr>\n",
              "    <tr>\n",
              "      <th>min</th>\n",
              "      <td>1.100000</td>\n",
              "      <td>17.000000</td>\n",
              "    </tr>\n",
              "    <tr>\n",
              "      <th>25%</th>\n",
              "      <td>2.700000</td>\n",
              "      <td>30.000000</td>\n",
              "    </tr>\n",
              "    <tr>\n",
              "      <th>50%</th>\n",
              "      <td>4.800000</td>\n",
              "      <td>47.000000</td>\n",
              "    </tr>\n",
              "    <tr>\n",
              "      <th>75%</th>\n",
              "      <td>7.400000</td>\n",
              "      <td>75.000000</td>\n",
              "    </tr>\n",
              "    <tr>\n",
              "      <th>max</th>\n",
              "      <td>9.200000</td>\n",
              "      <td>95.000000</td>\n",
              "    </tr>\n",
              "  </tbody>\n",
              "</table>\n",
              "</div>"
            ],
            "text/plain": [
              "           Hours     Scores\n",
              "count  25.000000  25.000000\n",
              "mean    5.012000  51.480000\n",
              "std     2.525094  25.286887\n",
              "min     1.100000  17.000000\n",
              "25%     2.700000  30.000000\n",
              "50%     4.800000  47.000000\n",
              "75%     7.400000  75.000000\n",
              "max     9.200000  95.000000"
            ]
          },
          "metadata": {
            "tags": []
          },
          "execution_count": 8
        }
      ]
    },
    {
      "cell_type": "markdown",
      "metadata": {
        "id": "JsmMlx9PL9xo"
      },
      "source": [
        "**To check the outliers**"
      ]
    },
    {
      "cell_type": "code",
      "metadata": {
        "colab": {
          "base_uri": "https://localhost:8080/",
          "height": 296
        },
        "id": "dmcdbPzSetT4",
        "outputId": "acf5f4c3-dbd1-459a-b606-0f7e283c8b60"
      },
      "source": [
        "import seaborn as sns\r\n",
        "sns.boxplot(x=data1['Scores'])\r\n"
      ],
      "execution_count": null,
      "outputs": [
        {
          "output_type": "execute_result",
          "data": {
            "text/plain": [
              "<matplotlib.axes._subplots.AxesSubplot at 0x7f9ed6dbacc0>"
            ]
          },
          "metadata": {
            "tags": []
          },
          "execution_count": 9
        },
        {
          "output_type": "display_data",
          "data": {
            "image/png": "[encoded data removed]",
            "text/plain": [
              "<Figure size 432x288 with 1 Axes>"
            ]
          },
          "metadata": {
            "tags": [],
            "needs_background": "light"
          }
        }
      ]
    },
    {
      "cell_type": "markdown",
      "metadata": {
        "id": "lwM5OnnjMKC5"
      },
      "source": [
        "**Correlation**"
      ]
    },
    {
      "cell_type": "code",
      "metadata": {
        "colab": {
          "base_uri": "https://localhost:8080/"
        },
        "id": "TvE2TYe7gsG8",
        "outputId": "cd2637bb-a4ff-4dd3-f8e1-d85a804d8d7d"
      },
      "source": [
        "data1['Scores'].corr(data1['Hours'])"
      ],
      "execution_count": null,
      "outputs": [
        {
          "output_type": "execute_result",
          "data": {
            "text/plain": [
              "0.9761906560220887"
            ]
          },
          "metadata": {
            "tags": []
          },
          "execution_count": 10
        }
      ]
    },
    {
      "cell_type": "code",
      "metadata": {
        "colab": {
          "base_uri": "https://localhost:8080/"
        },
        "id": "hjf06NOahDn5",
        "outputId": "b593986b-946b-4d87-da7f-8cf0c2e23569"
      },
      "source": [
        "np.corrcoef(data1['Scores'],data1['Hours'])"
      ],
      "execution_count": null,
      "outputs": [
        {
          "output_type": "execute_result",
          "data": {
            "text/plain": [
              "array([[1.        , 0.97619066],\n",
              "       [0.97619066, 1.        ]])"
            ]
          },
          "metadata": {
            "tags": []
          },
          "execution_count": 11
        }
      ]
    },
    {
      "cell_type": "markdown",
      "metadata": {
        "id": "xUU7ZCoE3c5o"
      },
      "source": [
        "**Unique value**"
      ]
    },
    {
      "cell_type": "code",
      "metadata": {
        "colab": {
          "base_uri": "https://localhost:8080/"
        },
        "id": "PkMsQC1_uPTL",
        "outputId": "1b2205de-6053-49c8-dfa5-b0f22fb660f1"
      },
      "source": [
        "data1['Hours'].unique()"
      ],
      "execution_count": null,
      "outputs": [
        {
          "output_type": "execute_result",
          "data": {
            "text/plain": [
              "array([2.5, 5.1, 3.2, 8.5, 3.5, 1.5, 9.2, 5.5, 8.3, 2.7, 7.7, 5.9, 4.5,\n",
              "       3.3, 1.1, 8.9, 1.9, 6.1, 7.4, 4.8, 3.8, 6.9, 7.8])"
            ]
          },
          "metadata": {
            "tags": []
          },
          "execution_count": 12
        }
      ]
    },
    {
      "cell_type": "code",
      "metadata": {
        "colab": {
          "base_uri": "https://localhost:8080/"
        },
        "id": "6hGOYUyRf25p",
        "outputId": "2edf56a6-8552-4515-8363-cfabe17b8bec"
      },
      "source": [
        "data1['Scores'].unique()"
      ],
      "execution_count": null,
      "outputs": [
        {
          "output_type": "execute_result",
          "data": {
            "text/plain": [
              "array([21, 47, 27, 75, 30, 20, 88, 60, 81, 25, 85, 62, 41, 42, 17, 95, 24,\n",
              "       67, 69, 54, 35, 76, 86])"
            ]
          },
          "metadata": {
            "tags": []
          },
          "execution_count": 13
        }
      ]
    },
    {
      "cell_type": "markdown",
      "metadata": {
        "id": "1OWOi_QsMY3s"
      },
      "source": [
        "**Visualizing the Dataset**"
      ]
    },
    {
      "cell_type": "code",
      "metadata": {
        "colab": {
          "base_uri": "https://localhost:8080/",
          "height": 295
        },
        "id": "wRN_sqlRFA74",
        "outputId": "d4ca576a-ed42-4244-d8a8-19b2793a62c2"
      },
      "source": [
        "data1.plot(x='Hours',y='Scores',style='o',markersize=8)\r\n",
        "plt.title('Hours vs percentage')\r\n",
        "plt.xlabel('Hours Studies')\r\n",
        "plt.ylabel('Score Obtained')\r\n",
        "plt.grid()\r\n",
        "plt.show()"
      ],
      "execution_count": null,
      "outputs": [
        {
          "output_type": "display_data",
          "data": {
            "image/png": "[encoded data removed]",
            "text/plain": [
              "<Figure size 432x288 with 1 Axes>"
            ]
          },
          "metadata": {
            "tags": [],
            "needs_background": "light"
          }
        }
      ]
    },
    {
      "cell_type": "markdown",
      "metadata": {
        "id": "fibbvwDK4Xcz"
      },
      "source": [
        "**STEP 2**"
      ]
    },
    {
      "cell_type": "markdown",
      "metadata": {
        "id": "BAo_6lYIMk6X"
      },
      "source": [
        "**Preparation of Dataset**"
      ]
    },
    {
      "cell_type": "code",
      "metadata": {
        "id": "Egi6n4s1FjdJ"
      },
      "source": [
        "x=data1.iloc[:,:-1].values\r\n",
        "y=data1.iloc[:,1].values"
      ],
      "execution_count": null,
      "outputs": []
    },
    {
      "cell_type": "code",
      "metadata": {
        "colab": {
          "base_uri": "https://localhost:8080/"
        },
        "id": "ae3vbeJiul1D",
        "outputId": "7ef95061-1ddf-4bf4-b004-aa8a06aaf85d"
      },
      "source": [
        "print(x.shape)"
      ],
      "execution_count": null,
      "outputs": [
        {
          "output_type": "stream",
          "text": [
            "(25, 1)\n"
          ],
          "name": "stdout"
        }
      ]
    },
    {
      "cell_type": "code",
      "metadata": {
        "id": "q6j0azIVut8G",
        "colab": {
          "base_uri": "https://localhost:8080/"
        },
        "outputId": "005330f5-52a6-4faf-acf5-75e81acb9c30"
      },
      "source": [
        "print(y.shape)"
      ],
      "execution_count": null,
      "outputs": [
        {
          "output_type": "stream",
          "text": [
            "(25,)\n"
          ],
          "name": "stdout"
        }
      ]
    },
    {
      "cell_type": "markdown",
      "metadata": {
        "id": "SXdk8QZa4cLa"
      },
      "source": [
        "**Step 3**"
      ]
    },
    {
      "cell_type": "markdown",
      "metadata": {
        "id": "geTt8Er8Y9mP"
      },
      "source": [
        "**Splitting the dataset**"
      ]
    },
    {
      "cell_type": "code",
      "metadata": {
        "id": "ZRcTgN6LF7Vs"
      },
      "source": [
        "from sklearn.model_selection import train_test_split\r\n",
        "x_train,x_test,y_train,y_test=train_test_split(x,y,test_size=0.3,random_state=0)"
      ],
      "execution_count": null,
      "outputs": []
    },
    {
      "cell_type": "code",
      "metadata": {
        "colab": {
          "base_uri": "https://localhost:8080/"
        },
        "id": "ecfHKve9hszK",
        "outputId": "573a2815-10d5-4c47-f00f-77cf6496c5cf"
      },
      "source": [
        "print(x_train.shape)"
      ],
      "execution_count": null,
      "outputs": [
        {
          "output_type": "stream",
          "text": [
            "(17, 1)\n"
          ],
          "name": "stdout"
        }
      ]
    },
    {
      "cell_type": "code",
      "metadata": {
        "colab": {
          "base_uri": "https://localhost:8080/"
        },
        "id": "EriH7hlRh1e4",
        "outputId": "ef61c9ea-f2e2-41c4-b358-49795fbe4c68"
      },
      "source": [
        "print(x_test.shape)"
      ],
      "execution_count": null,
      "outputs": [
        {
          "output_type": "stream",
          "text": [
            "(8, 1)\n"
          ],
          "name": "stdout"
        }
      ]
    },
    {
      "cell_type": "markdown",
      "metadata": {
        "id": "o06QtEV44g7d"
      },
      "source": [
        "**Step 4**"
      ]
    },
    {
      "cell_type": "markdown",
      "metadata": {
        "id": "uu8gTOSaNTZT"
      },
      "source": [
        "**Training the Algorithm**"
      ]
    },
    {
      "cell_type": "code",
      "metadata": {
        "colab": {
          "base_uri": "https://localhost:8080/"
        },
        "id": "vkhrbmZ0GeWb",
        "outputId": "8d1db513-405a-44cd-f9c4-443a0ce229fc"
      },
      "source": [
        "from sklearn.linear_model import LinearRegression\r\n",
        "regression=LinearRegression()\r\n",
        "regression.fit(x_train,y_train)"
      ],
      "execution_count": null,
      "outputs": [
        {
          "output_type": "execute_result",
          "data": {
            "text/plain": [
              "LinearRegression(copy_X=True, fit_intercept=True, n_jobs=None, normalize=False)"
            ]
          },
          "metadata": {
            "tags": []
          },
          "execution_count": 21
        }
      ]
    },
    {
      "cell_type": "code",
      "metadata": {
        "colab": {
          "base_uri": "https://localhost:8080/"
        },
        "id": "gvwPCxTVi1sF",
        "outputId": "e5a1c0c4-a8e3-4cce-f0f8-6770ddeb80d7"
      },
      "source": [
        "regression.coef_"
      ],
      "execution_count": null,
      "outputs": [
        {
          "output_type": "execute_result",
          "data": {
            "text/plain": [
              "array([9.78856669])"
            ]
          },
          "metadata": {
            "tags": []
          },
          "execution_count": 22
        }
      ]
    },
    {
      "cell_type": "markdown",
      "metadata": {
        "id": "aL0r9vdQZL-G"
      },
      "source": [
        "**Visualizing the model**"
      ]
    },
    {
      "cell_type": "code",
      "metadata": {
        "colab": {
          "base_uri": "https://localhost:8080/",
          "height": 279
        },
        "id": "bwKuXUofGz5K",
        "outputId": "7353870a-3a0a-4079-ce4c-1a47c0942c69"
      },
      "source": [
        "l=regression.coef_*x+regression.intercept_\r\n",
        "plt.scatter(x_train,y_train,color='red')\r\n",
        "plt.plot(x,l,color='blue');\r\n",
        "plt.xlabel('Hours Studied')\r\n",
        "plt.ylabel('Percentage Score')\r\n",
        "plt.grid()\r\n",
        "plt.show()"
      ],
      "execution_count": null,
      "outputs": [
        {
          "output_type": "display_data",
          "data": {
            "image/png": "[encoded data removed]",
            "text/plain": [
              "<Figure size 432x288 with 1 Axes>"
            ]
          },
          "metadata": {
            "tags": [],
            "needs_background": "light"
          }
        }
      ]
    },
    {
      "cell_type": "code",
      "metadata": {
        "id": "RMcJzJvMLbVA",
        "colab": {
          "base_uri": "https://localhost:8080/",
          "height": 279
        },
        "outputId": "8947bd43-aa85-4833-b2f2-b91aae438156"
      },
      "source": [
        "plt.scatter(x_test,y_test,color='red')\r\n",
        "plt.plot(x_train,regression.predict(x_train),color='blue');\r\n",
        "plt.xlabel('Hours Studied')\r\n",
        "plt.ylabel('Percentage Score')\r\n",
        "plt.grid()\r\n",
        "plt.show()"
      ],
      "execution_count": null,
      "outputs": [
        {
          "output_type": "display_data",
          "data": {
            "image/png": "[encoded data removed]",
            "text/plain": [
              "<Figure size 432x288 with 1 Axes>"
            ]
          },
          "metadata": {
            "tags": [],
            "needs_background": "light"
          }
        }
      ]
    },
    {
      "cell_type": "code",
      "metadata": {
        "colab": {
          "base_uri": "https://localhost:8080/"
        },
        "id": "FUHn7rg8jNaA",
        "outputId": "07dc580c-0736-48dc-dd38-21adbc4b85fc"
      },
      "source": [
        "predictions=regression.predict(x_test)\r\n",
        "regression.score(x_test,y_test)"
      ],
      "execution_count": null,
      "outputs": [
        {
          "output_type": "execute_result",
          "data": {
            "text/plain": [
              "0.9568211104435257"
            ]
          },
          "metadata": {
            "tags": []
          },
          "execution_count": 25
        }
      ]
    },
    {
      "cell_type": "code",
      "metadata": {
        "colab": {
          "base_uri": "https://localhost:8080/"
        },
        "id": "TtNGbvhhHPpE",
        "outputId": "d0dda9e9-7366-4031-9378-0948f6cb8514"
      },
      "source": [
        "print(\"Intercept\")\r\n",
        "print(regression.intercept_)"
      ],
      "execution_count": null,
      "outputs": [
        {
          "output_type": "stream",
          "text": [
            "Intercept\n",
            "2.3708153823418883\n"
          ],
          "name": "stdout"
        }
      ]
    },
    {
      "cell_type": "code",
      "metadata": {
        "colab": {
          "base_uri": "https://localhost:8080/"
        },
        "id": "vwhNECBMHYWv",
        "outputId": "4aef8bed-4a38-482c-f5c3-247807681dfe"
      },
      "source": [
        "print(\"Coefficent:\")\r\n",
        "print(regression.coef_)"
      ],
      "execution_count": null,
      "outputs": [
        {
          "output_type": "stream",
          "text": [
            "Coefficent:\n",
            "[9.78856669]\n"
          ],
          "name": "stdout"
        }
      ]
    },
    {
      "cell_type": "markdown",
      "metadata": {
        "id": "WL5KW0nJ4q0Y"
      },
      "source": [
        "**Step 5**"
      ]
    },
    {
      "cell_type": "markdown",
      "metadata": {
        "id": "WaglfvIgZZo-"
      },
      "source": [
        "**Making the prediction**"
      ]
    },
    {
      "cell_type": "code",
      "metadata": {
        "colab": {
          "base_uri": "https://localhost:8080/"
        },
        "id": "anDUymNlHn1g",
        "outputId": "c22e160f-793b-43fa-c879-7027d3a890e0"
      },
      "source": [
        "y_pred=regression.predict(x_test)\r\n",
        "print(y_pred)"
      ],
      "execution_count": null,
      "outputs": [
        {
          "output_type": "stream",
          "text": [
            "[17.05366541 33.69422878 74.80620886 26.8422321  60.12335883 39.56736879\n",
            " 20.96909209 78.72163554]\n"
          ],
          "name": "stdout"
        }
      ]
    },
    {
      "cell_type": "code",
      "metadata": {
        "colab": {
          "base_uri": "https://localhost:8080/"
        },
        "id": "n-AX-vx3Hyb0",
        "outputId": "0c07fd36-0710-4da4-f3f0-bf50dcdf6ef7"
      },
      "source": [
        "hour=9.25\r\n",
        "newpred=regression.predict([[hour]])\r\n",
        "print(newpred[0])"
      ],
      "execution_count": null,
      "outputs": [
        {
          "output_type": "stream",
          "text": [
            "92.91505723477056\n"
          ],
          "name": "stdout"
        }
      ]
    },
    {
      "cell_type": "markdown",
      "metadata": {
        "id": "PURqgQWHZsZV"
      },
      "source": [
        "The person who studies for 9.25 hours the predicted score is 92.91"
      ]
    },
    {
      "cell_type": "markdown",
      "metadata": {
        "id": "_vJL8YBE4yVm"
      },
      "source": [
        "**Step 6**"
      ]
    },
    {
      "cell_type": "markdown",
      "metadata": {
        "id": "rKIq5FrROI-k"
      },
      "source": [
        "**Evaluating the model**"
      ]
    },
    {
      "cell_type": "code",
      "metadata": {
        "colab": {
          "base_uri": "https://localhost:8080/"
        },
        "id": "m2SyGD4FPjlV",
        "outputId": "251dd8bd-ce22-4855-8af2-d4fbbff80430"
      },
      "source": [
        "from sklearn import metrics\r\n",
        "print(metrics.mean_absolute_error(y_test,y_pred))"
      ],
      "execution_count": null,
      "outputs": [
        {
          "output_type": "stream",
          "text": [
            "4.419727808027651\n"
          ],
          "name": "stdout"
        }
      ]
    },
    {
      "cell_type": "code",
      "metadata": {
        "colab": {
          "base_uri": "https://localhost:8080/"
        },
        "id": "dzYXS-y-XETd",
        "outputId": "43d40051-5bc4-4d79-edfb-13d9e8f38561"
      },
      "source": [
        "from sklearn.metrics import r2_score\r\n",
        "print(r2_score(y_test,y_pred))"
      ],
      "execution_count": null,
      "outputs": [
        {
          "output_type": "stream",
          "text": [
            "0.9568211104435257\n"
          ],
          "name": "stdout"
        }
      ]
    }
  ]
}